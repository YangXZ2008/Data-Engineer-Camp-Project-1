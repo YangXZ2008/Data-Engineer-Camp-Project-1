{
 "cells": [
  {
   "cell_type": "code",
   "execution_count": 18,
   "metadata": {},
   "outputs": [
    {
     "name": "stdout",
     "output_type": "stream",
     "text": [
      "{'refresh_token_expires_in': '0', 'api_product_list': '[Fuel Check Portal Api FreeProductForPortal]', 'api_product_list_json': ['Fuel Check Portal Api FreeProductForPortal'], 'organization_name': 'onegov', 'developer.email': 'deptoffinancensw@gmail.com', 'token_type': 'BearerToken', 'issued_at': '1693116964518', 'client_id': '1MYSRAx5yvqHUZc6VGtxix6oMA2qgfRT', 'access_token': 'ckEYbc243d7KicODdTYENKT2gsLI', 'application_name': '2a2f9f97-2157-42f2-854d-c606e89bc0fc', 'scope': '', 'expires_in': '43199', 'refresh_count': '0', 'status': 'approved'}\n"
     ]
    }
   ],
   "source": [
    "import os\n",
    "from dotenv import load_dotenv, dotenv_values\n",
    "import requests\n",
    "import json\n",
    "\n",
    "load_dotenv()\n",
    "\n",
    "API = os.getenv('APIKEY')\n",
    "APISECRET = os.getenv('APISECRET')\n",
    "AUTHORIZATIONHEADER = os.getenv('AUTHORIZATIONHEADER')\n",
    "ACCESS_TOKEN_URL = \"https://api.onegov.nsw.gov.au/oauth/client_credential/accesstoken\"\n",
    "\n",
    "\n",
    "\n",
    "\n",
    "def get_access_token(AUTHORIZATIONHEADER,ACCESS_TOKEN_URL):\n",
    "    \n",
    "    querystring = {\"grant_type\":\"client_credentials\"}\n",
    "    headers = {\n",
    "        'content-type': \"application/json\",\n",
    "        'authorization': AUTHORIZATIONHEADER\n",
    "        }\n",
    "\n",
    "    response = requests.request(\"GET\", ACCESS_TOKEN_URL, headers=headers, params=querystring)\n",
    "    \n",
    "    if(response.status_code == 200):\n",
    "       return json.load(response)\n",
    "   \n",
    "    \n",
    "\n",
    "\n",
    "print(get_access_token(AUTHORIZATIONHEADER,ACCESS_TOKEN_URL))\n",
    "\n",
    "\n",
    "\n",
    "\n",
    "\n"
   ]
  },
  {
   "cell_type": "code",
   "execution_count": null,
   "metadata": {},
   "outputs": [],
   "source": []
  }
 ],
 "metadata": {
  "kernelspec": {
   "display_name": "Python 3",
   "language": "python",
   "name": "python3"
  },
  "language_info": {
   "codemirror_mode": {
    "name": "ipython",
    "version": 3
   },
   "file_extension": ".py",
   "mimetype": "text/x-python",
   "name": "python",
   "nbconvert_exporter": "python",
   "pygments_lexer": "ipython3",
   "version": "3.11.4"
  },
  "orig_nbformat": 4
 },
 "nbformat": 4,
 "nbformat_minor": 2
}
