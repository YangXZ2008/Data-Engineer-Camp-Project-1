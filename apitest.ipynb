{
 "cells": [
  {
   "cell_type": "code",
   "execution_count": 3,
   "metadata": {},
   "outputs": [
    {
     "name": "stdout",
     "output_type": "stream",
     "text": [
      "{'access_token': 'Ikb4ZnNwoBRs4GeQTQfuQDDf7t0I',\n",
      " 'api_product_list': '[Fuel Check Portal Api]',\n",
      " 'api_product_list_json': ['Fuel Check Portal Api'],\n",
      " 'application_name': '4efcebd1-648f-4f44-8058-34f66310b335',\n",
      " 'client_id': 'sF0XWOGwO33OJLjaE6SzHTN35eomO7Rs',\n",
      " 'developer.email': 'tranhoangkhuongvn@gmail.com',\n",
      " 'expires_in': '43199',\n",
      " 'issued_at': '1693222638584',\n",
      " 'organization_name': 'onegov',\n",
      " 'refresh_count': '0',\n",
      " 'refresh_token_expires_in': '0',\n",
      " 'scope': '',\n",
      " 'status': 'approved',\n",
      " 'token_type': 'BearerToken'}\n"
     ]
    },
    {
     "ename": "AttributeError",
     "evalue": "'Response' object has no attribute 'read'",
     "output_type": "error",
     "traceback": [
      "\u001b[0;31m---------------------------------------------------------------------------\u001b[0m",
      "\u001b[0;31mAttributeError\u001b[0m                            Traceback (most recent call last)",
      "\u001b[1;32m/Users/khuongtran/Documents/fun_learning/Data-Engineer-Camp-Project-1/apitest.ipynb Cell 1\u001b[0m in \u001b[0;36m<cell line: 33>\u001b[0;34m()\u001b[0m\n\u001b[1;32m     <a href='vscode-notebook-cell:/Users/khuongtran/Documents/fun_learning/Data-Engineer-Camp-Project-1/apitest.ipynb#W0sZmlsZQ%3D%3D?line=26'>27</a>\u001b[0m     \u001b[39mif\u001b[39;00m(response\u001b[39m.\u001b[39mstatus_code \u001b[39m==\u001b[39m \u001b[39m200\u001b[39m):\n\u001b[1;32m     <a href='vscode-notebook-cell:/Users/khuongtran/Documents/fun_learning/Data-Engineer-Camp-Project-1/apitest.ipynb#W0sZmlsZQ%3D%3D?line=27'>28</a>\u001b[0m        \u001b[39mreturn\u001b[39;00m json\u001b[39m.\u001b[39mload(response)\n\u001b[0;32m---> <a href='vscode-notebook-cell:/Users/khuongtran/Documents/fun_learning/Data-Engineer-Camp-Project-1/apitest.ipynb#W0sZmlsZQ%3D%3D?line=32'>33</a>\u001b[0m pprint(get_access_token(AUTHORIZATIONHEADER, ACCESS_TOKEN_URL))\n",
      "\u001b[1;32m/Users/khuongtran/Documents/fun_learning/Data-Engineer-Camp-Project-1/apitest.ipynb Cell 1\u001b[0m in \u001b[0;36mget_access_token\u001b[0;34m(AUTHORIZATIONHEADER, ACCESS_TOKEN_URL)\u001b[0m\n\u001b[1;32m     <a href='vscode-notebook-cell:/Users/khuongtran/Documents/fun_learning/Data-Engineer-Camp-Project-1/apitest.ipynb#W0sZmlsZQ%3D%3D?line=25'>26</a>\u001b[0m pprint(response\u001b[39m.\u001b[39mjson()) \n\u001b[1;32m     <a href='vscode-notebook-cell:/Users/khuongtran/Documents/fun_learning/Data-Engineer-Camp-Project-1/apitest.ipynb#W0sZmlsZQ%3D%3D?line=26'>27</a>\u001b[0m \u001b[39mif\u001b[39;00m(response\u001b[39m.\u001b[39mstatus_code \u001b[39m==\u001b[39m \u001b[39m200\u001b[39m):\n\u001b[0;32m---> <a href='vscode-notebook-cell:/Users/khuongtran/Documents/fun_learning/Data-Engineer-Camp-Project-1/apitest.ipynb#W0sZmlsZQ%3D%3D?line=27'>28</a>\u001b[0m    \u001b[39mreturn\u001b[39;00m json\u001b[39m.\u001b[39;49mload(response)\n",
      "File \u001b[0;32m~/opt/anaconda3/envs/data_eng1/lib/python3.9/json/__init__.py:293\u001b[0m, in \u001b[0;36mload\u001b[0;34m(fp, cls, object_hook, parse_float, parse_int, parse_constant, object_pairs_hook, **kw)\u001b[0m\n\u001b[1;32m    274\u001b[0m \u001b[39mdef\u001b[39;00m \u001b[39mload\u001b[39m(fp, \u001b[39m*\u001b[39m, \u001b[39mcls\u001b[39m\u001b[39m=\u001b[39m\u001b[39mNone\u001b[39;00m, object_hook\u001b[39m=\u001b[39m\u001b[39mNone\u001b[39;00m, parse_float\u001b[39m=\u001b[39m\u001b[39mNone\u001b[39;00m,\n\u001b[1;32m    275\u001b[0m         parse_int\u001b[39m=\u001b[39m\u001b[39mNone\u001b[39;00m, parse_constant\u001b[39m=\u001b[39m\u001b[39mNone\u001b[39;00m, object_pairs_hook\u001b[39m=\u001b[39m\u001b[39mNone\u001b[39;00m, \u001b[39m*\u001b[39m\u001b[39m*\u001b[39mkw):\n\u001b[1;32m    276\u001b[0m     \u001b[39m\"\"\"Deserialize ``fp`` (a ``.read()``-supporting file-like object containing\u001b[39;00m\n\u001b[1;32m    277\u001b[0m \u001b[39m    a JSON document) to a Python object.\u001b[39;00m\n\u001b[1;32m    278\u001b[0m \n\u001b[0;32m   (...)\u001b[0m\n\u001b[1;32m    291\u001b[0m \u001b[39m    kwarg; otherwise ``JSONDecoder`` is used.\u001b[39;00m\n\u001b[1;32m    292\u001b[0m \u001b[39m    \"\"\"\u001b[39;00m\n\u001b[0;32m--> 293\u001b[0m     \u001b[39mreturn\u001b[39;00m loads(fp\u001b[39m.\u001b[39;49mread(),\n\u001b[1;32m    294\u001b[0m         \u001b[39mcls\u001b[39m\u001b[39m=\u001b[39m\u001b[39mcls\u001b[39m, object_hook\u001b[39m=\u001b[39mobject_hook,\n\u001b[1;32m    295\u001b[0m         parse_float\u001b[39m=\u001b[39mparse_float, parse_int\u001b[39m=\u001b[39mparse_int,\n\u001b[1;32m    296\u001b[0m         parse_constant\u001b[39m=\u001b[39mparse_constant, object_pairs_hook\u001b[39m=\u001b[39mobject_pairs_hook, \u001b[39m*\u001b[39m\u001b[39m*\u001b[39mkw)\n",
      "\u001b[0;31mAttributeError\u001b[0m: 'Response' object has no attribute 'read'"
     ]
    }
   ],
   "source": [
    "import os\n",
    "from dotenv import load_dotenv, dotenv_values\n",
    "import requests\n",
    "import json\n",
    "from pprint import pprint\n",
    "\n",
    "load_dotenv()\n",
    "\n",
    "API = os.getenv('APIKEY')\n",
    "APISECRET = os.getenv('APISECRET')\n",
    "AUTHORIZATIONHEADER = os.getenv('AUTHORIZATIONHEADER')\n",
    "ACCESS_TOKEN_URL = \"https://api.onegov.nsw.gov.au/oauth/client_credential/accesstoken\"\n",
    "\n",
    "\n",
    "\n",
    "\n",
    "def get_access_token(AUTHORIZATIONHEADER, ACCESS_TOKEN_URL):\n",
    "    \n",
    "    querystring = {\"grant_type\":\"client_credentials\"}\n",
    "    headers = {\n",
    "        'content-type': \"application/json\",\n",
    "        'authorization': AUTHORIZATIONHEADER\n",
    "        }\n",
    "\n",
    "    response = requests.request(\"GET\", ACCESS_TOKEN_URL, headers=headers, params=querystring)\n",
    "    pprint(response.json()) \n",
    "    #if(response.status_code == 200):\n",
    "    #   return json.load(response)\n",
    "   \n",
    "    \n",
    "\n",
    "\n",
    "pprint(get_access_token(AUTHORIZATIONHEADER, ACCESS_TOKEN_URL))\n",
    "\n",
    "\n",
    "\n",
    "\n",
    "\n"
   ]
  },
  {
   "cell_type": "code",
   "execution_count": null,
   "metadata": {},
   "outputs": [],
   "source": []
  }
 ],
 "metadata": {
  "kernelspec": {
   "display_name": "Python 3",
   "language": "python",
   "name": "python3"
  },
  "language_info": {
   "codemirror_mode": {
    "name": "ipython",
    "version": 3
   },
   "file_extension": ".py",
   "mimetype": "text/x-python",
   "name": "python",
   "nbconvert_exporter": "python",
   "pygments_lexer": "ipython3",
   "version": "3.9.12"
  },
  "orig_nbformat": 4
 },
 "nbformat": 4,
 "nbformat_minor": 2
}
